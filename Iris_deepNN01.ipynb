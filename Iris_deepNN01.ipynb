{
  "nbformat": 4,
  "nbformat_minor": 0,
  "metadata": {
    "colab": {
      "name": "Iris_deepNN01.ipynb",
      "provenance": [],
      "authorship_tag": "ABX9TyPZ02uQz3HXZCaUCDEoGT2b",
      "include_colab_link": true
    },
    "kernelspec": {
      "name": "python3",
      "display_name": "Python 3"
    }
  },
  "cells": [
    {
      "cell_type": "markdown",
      "metadata": {
        "id": "view-in-github",
        "colab_type": "text"
      },
      "source": [
        "<a href=\"https://colab.research.google.com/github/takakurahashi/github.io/blob/master/Iris_deepNN01.ipynb\" target=\"_parent\"><img src=\"https://colab.research.google.com/assets/colab-badge.svg\" alt=\"Open In Colab\"/></a>"
      ]
    },
    {
      "cell_type": "code",
      "metadata": {
        "id": "GFe6WV3tzEpR"
      },
      "source": [
        "# 必要なライブラリの読み込み\n",
        "import numpy as np\n",
        "from scipy import sparse\n",
        "import matplotlib.pyplot as plt\n",
        "import pandas as pd\n",
        "from sklearn.datasets import load_iris\n",
        "from sklearn.model_selection import train_test_split\n",
        "from sklearn.preprocessing import StandardScaler"
      ],
      "execution_count": 3,
      "outputs": []
    },
    {
      "cell_type": "code",
      "metadata": {
        "id": "-as7GXHlzQxT"
      },
      "source": [
        "# アイリスデータ読み込み\n",
        "iris_dataset = load_iris()\n",
        "# -- 正解をone-hot表現にする --\n",
        "correct = iris_dataset.target\n",
        "n_data = len(correct)\n",
        "correct_data = np.zeros((n_data, 3))\n",
        "for i in range(n_data):\n",
        "    correct_data[i, correct[i]] = 1.0\n",
        "# 訓練データとテストデータの分割\n",
        "X_train, X_test, correct_train, correct_test = train_test_split(\n",
        "  iris_dataset['data'],correct_data,random_state=0\n",
        ")\n",
        "# 標準化\n",
        "sc = StandardScaler()\n",
        "sc.fit(X_train)\n",
        "input_train = sc.transform(X_train)\n",
        "input_test = sc.transform(X_test)"
      ],
      "execution_count": 4,
      "outputs": []
    },
    {
      "cell_type": "code",
      "metadata": {
        "id": "a-RqlqSyzW3m"
      },
      "source": [
        "n_train = input_train.shape[0] # 訓練データのサンプル数\n",
        "n_test = input_test.shape[0]   # テストデータのサンプル数\n",
        "\n",
        "# -- 各設定値 --\n",
        "n_in = 4  # 入力層のニューロン数\n",
        "n_mid = 25  # 中間層のニューロン数\n",
        "n_out = 3  # 出力層のニューロン数\n",
        "\n",
        "wb_width = 0.1  # 重みとバイアスの広がり具合\n",
        "eta = 0.01  # 学習係数\n",
        "epoch = 1000\n",
        "batch_size = 8\n",
        "interval = 100  # 経過の表示間隔"
      ],
      "execution_count": 5,
      "outputs": []
    },
    {
      "cell_type": "code",
      "metadata": {
        "id": "AQoXC_uNzYTX"
      },
      "source": [
        "# -- 各層の継承元 --\n",
        "class BaseLayer:\n",
        "    def __init__(self, n_upper, n):\n",
        "        self.w = wb_width * np.random.randn(n_upper, n)  # 重み（行列）\n",
        "        self.b = wb_width * np.random.randn(n)  # バイアス（ベクトル）\n",
        "\n",
        "        self.h_w = np.zeros(( n_upper, n)) + 1e-8\n",
        "        self.h_b = np.zeros(n) + 1e-8\n",
        "        \n",
        "    def update(self, eta):      \n",
        "        self.h_w += self.grad_w * self.grad_w\n",
        "        self.w -= eta / np.sqrt(self.h_w) * self.grad_w\n",
        "        \n",
        "        self.h_b += self.grad_b * self.grad_b\n",
        "        self.b -= eta / np.sqrt(self.h_b) * self.grad_b\n"
      ],
      "execution_count": 6,
      "outputs": []
    },
    {
      "cell_type": "code",
      "metadata": {
        "id": "Esz1KQknzcLE"
      },
      "source": [
        "# -- 中間層 --\n",
        "class MiddleLayer(BaseLayer):\n",
        "    def forward(self, x):\n",
        "        self.x = x\n",
        "        self.u = np.dot(x, self.w) + self.b\n",
        "        self.y = np.where(self.u <= 0, 0, self.u)  # ReLU\n",
        "    \n",
        "    def backward(self, grad_y):\n",
        "        delta = grad_y * np.where(self.u <= 0, 0, 1)  # ReLUの微分\n",
        "\n",
        "        self.grad_w = np.dot(self.x.T, delta)\n",
        "        self.grad_b = np.sum(delta, axis=0)\n",
        "        \n",
        "        self.grad_x = np.dot(delta, self.w.T) "
      ],
      "execution_count": 7,
      "outputs": []
    },
    {
      "cell_type": "code",
      "metadata": {
        "id": "ZnKTykATzgMG"
      },
      "source": [
        "# -- 出力層 --\n",
        "class OutputLayer(BaseLayer):     \n",
        "    def forward(self, x):\n",
        "        self.x = x\n",
        "        u = np.dot(x, self.w) + self.b\n",
        "        self.y = np.exp(u)/np.sum(np.exp(u), axis=1, keepdims=True)  # ソフトマックス関数\n",
        "\n",
        "    def backward(self, t):\n",
        "        delta = self.y - t\n",
        "        \n",
        "        self.grad_w = np.dot(self.x.T, delta)\n",
        "        self.grad_b = np.sum(delta, axis=0)\n",
        "        \n",
        "        self.grad_x = np.dot(delta, self.w.T) \n"
      ],
      "execution_count": 8,
      "outputs": []
    },
    {
      "cell_type": "code",
      "metadata": {
        "id": "YXOTkJ5qzj4l"
      },
      "source": [
        "# -- 各層の初期化 --\n",
        "middle_layer_1 = MiddleLayer(n_in, n_mid)\n",
        "middle_layer_2 = MiddleLayer(n_mid, n_mid)\n",
        "output_layer = OutputLayer(n_mid, n_out)\n",
        "\n",
        "# -- 順伝播 --\n",
        "def forward_propagation(x):\n",
        "    middle_layer_1.forward(x)\n",
        "    middle_layer_2.forward(middle_layer_1.y)\n",
        "    output_layer.forward(middle_layer_2.y)\n",
        "\n",
        "# -- 逆伝播 --\n",
        "def backpropagation(t):\n",
        "    output_layer.backward(t)\n",
        "    middle_layer_2.backward(output_layer.grad_x)\n",
        "    middle_layer_1.backward(middle_layer_2.grad_x)\n",
        "\n",
        "# -- 重みとバイアスの更新 --\n",
        "def uppdate_wb():\n",
        "    middle_layer_1.update(eta)\n",
        "    middle_layer_2.update(eta)\n",
        "    output_layer.update(eta)\n",
        "\n",
        "# -- 誤差を計算 --\n",
        "def get_error(t, batch_size):\n",
        "    return -np.sum(t * np.log(output_layer.y+ 1e-7)) / batch_size  # 交差エントロピー誤差"
      ],
      "execution_count": 10,
      "outputs": []
    },
    {
      "cell_type": "code",
      "metadata": {
        "id": "2KAHY_gXzpKs"
      },
      "source": [
        "# -- 誤差の記録用 --\n",
        "train_error_x = []\n",
        "train_error_y = []\n",
        "test_error_x = []\n",
        "test_error_y = []"
      ],
      "execution_count": 11,
      "outputs": []
    },
    {
      "cell_type": "code",
      "metadata": {
        "id": "1QNB2tTlzv_x",
        "outputId": "9171c2f8-e67e-42ea-e65c-0a6cf1607e3e",
        "colab": {
          "base_uri": "https://localhost:8080/",
          "height": 194
        }
      },
      "source": [
        "# -- 学習と経過の記録 --\n",
        "n_batch = n_train // batch_size  # 1エポックあたりのバッチ数\n",
        "for i in range(epoch):\n",
        "\n",
        "    # -- 誤差の計測 --  \n",
        "    forward_propagation(input_train)\n",
        "    error_train = get_error(correct_train, n_train)\n",
        "    forward_propagation(input_test)\n",
        "    error_test = get_error(correct_test, n_test)\n",
        "    \n",
        "    # -- 誤差の記録 -- \n",
        "    test_error_x.append(i)\n",
        "    test_error_y.append(error_test) \n",
        "    train_error_x.append(i)\n",
        "    train_error_y.append(error_train) \n",
        "    \n",
        "    # -- 経過の表示 -- \n",
        "    if i%interval == 0:\n",
        "        print(\"Epoch:\" + str(i) + \"/\" + str(epoch),\n",
        "              \"Error_train:\" + str(error_train),\n",
        "              \"Error_test:\" + str(error_test))\n",
        "\n",
        "    # -- 学習 -- \n",
        "    index_random = np.arange(n_train)\n",
        "    np.random.shuffle(index_random)  # インデックスをシャッフルする\n",
        "    for j in range(n_batch):\n",
        "        \n",
        "        # ミニバッチを取り出す\n",
        "        mb_index = index_random[j*batch_size : (j+1)*batch_size]\n",
        "        x = input_train[mb_index, :]\n",
        "        t = correct_train[mb_index, :]\n",
        "        \n",
        "        # 順伝播と逆伝播\n",
        "        forward_propagation(x)\n",
        "        backpropagation(t)\n",
        "        \n",
        "        # 重みとバイアスの更新\n",
        "        uppdate_wb() \n"
      ],
      "execution_count": 12,
      "outputs": [
        {
          "output_type": "stream",
          "text": [
            "Epoch:0/1000 Error_train:1.0982623679428796 Error_test:1.0948425354560032\n",
            "Epoch:100/1000 Error_train:0.05088458530152378 Error_test:0.08612053208613124\n",
            "Epoch:200/1000 Error_train:0.03730382053640069 Error_test:0.0792110265235903\n",
            "Epoch:300/1000 Error_train:0.03110977676861461 Error_test:0.08063171806987461\n",
            "Epoch:400/1000 Error_train:0.02702744339609192 Error_test:0.08488279492320416\n",
            "Epoch:500/1000 Error_train:0.02407590931497607 Error_test:0.08889852010173427\n",
            "Epoch:600/1000 Error_train:0.021730755650789486 Error_test:0.09339349353790405\n",
            "Epoch:700/1000 Error_train:0.0198069581316386 Error_test:0.0982860174323346\n",
            "Epoch:800/1000 Error_train:0.018171043914981193 Error_test:0.10302595716941236\n",
            "Epoch:900/1000 Error_train:0.016746643693114065 Error_test:0.10844810857301353\n"
          ],
          "name": "stdout"
        }
      ]
    },
    {
      "cell_type": "code",
      "metadata": {
        "id": "jvJlo5AZ05se",
        "outputId": "ec8fbf67-9412-460d-fe13-e03f99886567",
        "colab": {
          "base_uri": "https://localhost:8080/",
          "height": 296
        }
      },
      "source": [
        "# -- 誤差の記録をグラフ表示 -- \n",
        "plt.plot(train_error_x, train_error_y, label=\"Train\")\n",
        "plt.plot(test_error_x, test_error_y, label=\"Test\")\n",
        "plt.legend()\n",
        "\n",
        "plt.xlabel(\"Epochs\")\n",
        "plt.ylabel(\"Error\")\n",
        "\n",
        "plt.show()\n",
        "\n",
        "# -- 正解率の測定 -- \n",
        "forward_propagation(input_train)\n",
        "count_train = np.sum(np.argmax(output_layer.y, axis=1) == np.argmax(correct_train, axis=1))\n",
        "\n",
        "forward_propagation(input_test)\n",
        "count_test = np.sum(np.argmax(output_layer.y, axis=1) == np.argmax(correct_test, axis=1))\n",
        "\n",
        "print(\"Accuracy Train:\", str(count_train/n_train*100) + \"%\",\n",
        "      \"Accuracy Test:\", str(count_test/n_test*100) + \"%\")"
      ],
      "execution_count": 13,
      "outputs": [
        {
          "output_type": "display_data",
          "data": {
            "image/png": "[encoded data removed]",
            "text/plain": [
              "<Figure size 432x288 with 1 Axes>"
            ]
          },
          "metadata": {
            "tags": [],
            "needs_background": "light"
          }
        },
        {
          "output_type": "stream",
          "text": [
            "Accuracy Train: 100.0% Accuracy Test: 97.36842105263158%\n"
          ],
          "name": "stdout"
        }
      ]
    }
  ]
}