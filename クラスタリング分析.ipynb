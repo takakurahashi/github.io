{
  "nbformat": 4,
  "nbformat_minor": 0,
  "metadata": {
    "colab": {
      "name": "クラスタリング分析.ipynb",
      "provenance": [],
      "authorship_tag": "ABX9TyOr2srCyfzJP/MjVM/WszWG",
      "include_colab_link": true
    },
    "kernelspec": {
      "name": "python3",
      "display_name": "Python 3"
    }
  },
  "cells": [
    {
      "cell_type": "markdown",
      "metadata": {
        "id": "view-in-github",
        "colab_type": "text"
      },
      "source": [
        "<a href=\"https://colab.research.google.com/github/takakurahashi/github.io/blob/master/%E3%82%AF%E3%83%A9%E3%82%B9%E3%82%BF%E3%83%AA%E3%83%B3%E3%82%B0%E5%88%86%E6%9E%90.ipynb\" target=\"_parent\"><img src=\"https://colab.research.google.com/assets/colab-badge.svg\" alt=\"Open In Colab\"/></a>"
      ]
    },
    {
      "cell_type": "code",
      "metadata": {
        "id": "CLKThDxO_ASJ",
        "outputId": "ccc4727c-837b-4eec-d319-7e7be442ef03",
        "colab": {
          "base_uri": "https://localhost:8080/",
          "height": 35
        }
      },
      "source": [
        "# データ加工・処理・分析ライブラリ\n",
        "import numpy as np\n",
        "import numpy.random as random\n",
        "import scipy as sp\n",
        "from pandas import Series, DataFrame\n",
        "import pandas as pd\n",
        "\n",
        "# 可視化ライブラリ\n",
        "import matplotlib.pyplot as plt\n",
        "import matplotlib as mpl\n",
        "import seaborn as sns\n",
        "%matplotlib inline\n",
        "\n",
        "# 機械学習ライブラリ\n",
        "import sklearn\n",
        "\n",
        "# 小数第3位まで表示\n",
        "%precision 3"
      ],
      "execution_count": 1,
      "outputs": [
        {
          "output_type": "execute_result",
          "data": {
            "application/vnd.google.colaboratory.intrinsic+json": {
              "type": "string"
            },
            "text/plain": [
              "'%.3f'"
            ]
          },
          "metadata": {
            "tags": []
          },
          "execution_count": 1
        }
      ]
    },
    {
      "cell_type": "code",
      "metadata": {
        "id": "HzFuGqkn_Iy2",
        "outputId": "6bc1b34b-e09e-4ee7-91a2-ce349baf16a9",
        "colab": {
          "base_uri": "https://localhost:8080/",
          "height": 1000
        }
      },
      "source": [
        "# k-means法を使うためのインポート\n",
        "from sklearn.cluster import KMeans\n",
        "\n",
        "# データ取得のためのインポート\n",
        "from sklearn.datasets import make_blobs\n",
        "\n",
        "# サンプルデータ生成\n",
        "# 注意：make_blobsは2つの値を返すため、一方は使用しない「 _ 」で受け取る\n",
        "X, _ = make_blobs(random_state=10)\n",
        "# print(X.min())\n",
        "print(X)\n",
        "print(_)\n",
        "# グラフを描画\n",
        "# colorのオプションで色付け\n",
        "plt.scatter(X[:,0],X[:,1],color='black')"
      ],
      "execution_count": 2,
      "outputs": [
        {
          "output_type": "stream",
          "text": [
            "[[ -2.325  -6.7  ]\n",
            " [  0.519  -4.901]\n",
            " [  2.443   3.847]\n",
            " [  5.827  -9.923]\n",
            " [  2.033   5.29 ]\n",
            " [  3.38    4.189]\n",
            " [  6.048 -10.305]\n",
            " [ -0.421  -4.249]\n",
            " [  3.781   5.221]\n",
            " [  5.692  -7.2  ]\n",
            " [  5.159 -10.134]\n",
            " [  1.165   5.597]\n",
            " [  2.946   3.358]\n",
            " [  1.188  -5.561]\n",
            " [ -0.317  -6.863]\n",
            " [  4.33    5.644]\n",
            " [  4.29   -9.45 ]\n",
            " [  3.5     3.022]\n",
            " [  5.314  -9.947]\n",
            " [  2.611   4.222]\n",
            " [  4.887  -8.877]\n",
            " [  1.956  -4.057]\n",
            " [  2.1     3.656]\n",
            " [  1.315  -5.011]\n",
            " [  5.526  -8.187]\n",
            " [  0.817   4.753]\n",
            " [  2.529   4.576]\n",
            " [  3.695   5.143]\n",
            " [  2.377   5.824]\n",
            " [  5.692  -9.476]\n",
            " [  0.917  -6.526]\n",
            " [  1.447   4.754]\n",
            " [  2.966   4.505]\n",
            " [  6.683 -10.317]\n",
            " [ -0.436  -4.722]\n",
            " [  0.348  -3.89 ]\n",
            " [  0.977  -5.798]\n",
            " [  2.457   5.965]\n",
            " [  2.607   2.844]\n",
            " [  2.89    2.982]\n",
            " [ -1.741  -4.892]\n",
            " [  5.859  -8.382]\n",
            " [ -1.11   -5.627]\n",
            " [  0.244  -6.019]\n",
            " [  4.056   5.322]\n",
            " [  5.559 -10.061]\n",
            " [  5.992  -9.732]\n",
            " [  4.461  -8.557]\n",
            " [ -1.055  -5.344]\n",
            " [  6.911 -10.665]\n",
            " [  3.909   7.441]\n",
            " [  2.195  -5.387]\n",
            " [  3.449 -11.328]\n",
            " [  6.55   -7.912]\n",
            " [ -0.078  -5.985]\n",
            " [  7.821  -8.668]\n",
            " [  2.624   5.369]\n",
            " [  0.481  -5.09 ]\n",
            " [  6.087  -9.936]\n",
            " [  5.064  -9.707]\n",
            " [  2.988   7.444]\n",
            " [  5.077   4.237]\n",
            " [ -1.153  -5.893]\n",
            " [  0.103  -4.301]\n",
            " [  1.137  -6.076]\n",
            " [  6.555 -10.283]\n",
            " [  5.655  -9.14 ]\n",
            " [  0.504  -4.76 ]\n",
            " [ -0.363  -6.295]\n",
            " [  0.302  -4.369]\n",
            " [  4.658   6.721]\n",
            " [  6.735  -9.39 ]\n",
            " [  2.36    4.627]\n",
            " [  2.234   5.117]\n",
            " [  0.215  -5.681]\n",
            " [  1.628   4.178]\n",
            " [  4.013   5.005]\n",
            " [  0.913  -8.484]\n",
            " [  5.155  -8.972]\n",
            " [  5.431  -9.76 ]\n",
            " [  5.746  -9.124]\n",
            " [  1.75    5.446]\n",
            " [  4.622  -9.798]\n",
            " [  3.385   5.894]\n",
            " [ -0.743  -5.765]\n",
            " [  2.191   5.066]\n",
            " [ -1.451  -6.183]\n",
            " [  5.087  -9.273]\n",
            " [  1.07   -4.94 ]\n",
            " [  0.431  -4.842]\n",
            " [  5.194 -10.087]\n",
            " [  6.473 -11.004]\n",
            " [  5.345 -10.114]\n",
            " [  0.324  -5.711]\n",
            " [ -0.267  -5.447]\n",
            " [ -0.737  -4.957]\n",
            " [  2.79    3.069]\n",
            " [  4.487 -10.074]\n",
            " [  6.269  -9.381]\n",
            " [  5.401  -9.296]]\n",
            "[2 2 1 0 1 1 0 2 1 0 0 1 1 2 2 1 0 1 0 1 0 2 1 2 0 1 1 1 1 0 2 1 1 0 2 2 2\n",
            " 1 1 1 2 0 2 2 1 0 0 0 2 0 1 2 0 0 2 0 1 2 0 0 1 1 2 2 2 0 0 2 2 2 1 0 1 1\n",
            " 2 1 1 2 0 0 0 1 0 1 2 1 2 0 2 2 0 0 0 2 2 2 1 0 0 0]\n"
          ],
          "name": "stdout"
        },
        {
          "output_type": "execute_result",
          "data": {
            "text/plain": [
              "<matplotlib.collections.PathCollection at 0x7f700eb7f898>"
            ]
          },
          "metadata": {
            "tags": []
          },
          "execution_count": 2
        },
        {
          "output_type": "display_data",
          "data": {
            "image/png": "[encoded data removed]",
            "text/plain": [
              "<Figure size 432x288 with 1 Axes>"
            ]
          },
          "metadata": {
            "tags": [],
            "needs_background": "light"
          }
        }
      ]
    },
    {
      "cell_type": "code",
      "metadata": {
        "id": "3gfvIuZQ_TvY",
        "outputId": "119b1aa3-557d-4a32-9ba1-1b6d66c2ab6e",
        "colab": {
          "base_uri": "https://localhost:8080/",
          "height": 70
        }
      },
      "source": [
        "# KMeansクラスの初期化\n",
        "kmeans = KMeans(init='random',n_clusters=3)\n",
        "\n",
        "# クラスター分する\n",
        "kmeans.fit(X)\n",
        "\n",
        "# クラスター番号を付ける\n",
        "y_pred = kmeans.predict(X)\n",
        "print(y_pred)"
      ],
      "execution_count": 3,
      "outputs": [
        {
          "output_type": "stream",
          "text": [
            "[2 2 0 1 0 0 1 2 0 1 1 0 0 2 2 0 1 0 1 0 1 2 0 2 1 0 0 0 0 1 2 0 0 1 2 2 2\n",
            " 0 0 0 2 1 2 2 0 1 1 1 2 1 0 2 1 1 2 1 0 2 1 1 0 0 2 2 2 1 1 2 2 2 0 1 0 0\n",
            " 2 0 0 2 1 1 1 0 1 0 2 0 2 1 2 2 1 1 1 2 2 2 0 1 1 1]\n"
          ],
          "name": "stdout"
        }
      ]
    },
    {
      "cell_type": "code",
      "metadata": {
        "id": "1n19ymFp_Z-L",
        "outputId": "2e0c92ac-def0-4837-fd2f-f1afc698fe96",
        "colab": {
          "base_uri": "https://localhost:8080/",
          "height": 197
        }
      },
      "source": [
        "# concatでデータを横に結合(axis=1を指定)\n",
        "merge_data = pd.concat([pd.DataFrame(X[:,0]), pd.DataFrame(X[:,1]), pd.DataFrame(y_pred)], axis=1)\n",
        "\n",
        "# 上記のデータにて、X軸をfeature1、Y軸をfeature2、クラスター番号をclusterと列名指定\n",
        "merge_data.columns = ['feature1','feature2','cluster']\n",
        "merge_data.head()"
      ],
      "execution_count": 4,
      "outputs": [
        {
          "output_type": "execute_result",
          "data": {
            "text/html": [
              "<div>\n",
              "<style scoped>\n",
              "    .dataframe tbody tr th:only-of-type {\n",
              "        vertical-align: middle;\n",
              "    }\n",
              "\n",
              "    .dataframe tbody tr th {\n",
              "        vertical-align: top;\n",
              "    }\n",
              "\n",
              "    .dataframe thead th {\n",
              "        text-align: right;\n",
              "    }\n",
              "</style>\n",
              "<table border=\"1\" class=\"dataframe\">\n",
              "  <thead>\n",
              "    <tr style=\"text-align: right;\">\n",
              "      <th></th>\n",
              "      <th>feature1</th>\n",
              "      <th>feature2</th>\n",
              "      <th>cluster</th>\n",
              "    </tr>\n",
              "  </thead>\n",
              "  <tbody>\n",
              "    <tr>\n",
              "      <th>0</th>\n",
              "      <td>-2.324963</td>\n",
              "      <td>-6.699996</td>\n",
              "      <td>2</td>\n",
              "    </tr>\n",
              "    <tr>\n",
              "      <th>1</th>\n",
              "      <td>0.518568</td>\n",
              "      <td>-4.900868</td>\n",
              "      <td>2</td>\n",
              "    </tr>\n",
              "    <tr>\n",
              "      <th>2</th>\n",
              "      <td>2.443018</td>\n",
              "      <td>3.846526</td>\n",
              "      <td>0</td>\n",
              "    </tr>\n",
              "    <tr>\n",
              "      <th>3</th>\n",
              "      <td>5.826623</td>\n",
              "      <td>-9.922593</td>\n",
              "      <td>1</td>\n",
              "    </tr>\n",
              "    <tr>\n",
              "      <th>4</th>\n",
              "      <td>2.033002</td>\n",
              "      <td>5.289908</td>\n",
              "      <td>0</td>\n",
              "    </tr>\n",
              "  </tbody>\n",
              "</table>\n",
              "</div>"
            ],
            "text/plain": [
              "   feature1  feature2  cluster\n",
              "0 -2.324963 -6.699996        2\n",
              "1  0.518568 -4.900868        2\n",
              "2  2.443018  3.846526        0\n",
              "3  5.826623 -9.922593        1\n",
              "4  2.033002  5.289908        0"
            ]
          },
          "metadata": {
            "tags": []
          },
          "execution_count": 4
        }
      ]
    },
    {
      "cell_type": "code",
      "metadata": {
        "id": "EuT6wst7_fbu",
        "outputId": "a42ea302-7dbf-4e05-9b4e-17735f9745de",
        "colab": {
          "base_uri": "https://localhost:8080/",
          "height": 278
        }
      },
      "source": [
        "# クラスタリング結果のグラフ化\n",
        "ax = None\n",
        "colors = ['blue', 'red', 'green']\n",
        "for i, data in merge_data.groupby('cluster'):\n",
        "    ax = data.plot.scatter(x='feature1', y='feature2', color=colors[i],\n",
        "                                           label=f'cluster{i}', ax=ax)"
      ],
      "execution_count": 5,
      "outputs": [
        {
          "output_type": "display_data",
          "data": {
            "image/png": "[encoded data removed]",
            "text/plain": [
              "<Figure size 432x288 with 1 Axes>"
            ]
          },
          "metadata": {
            "tags": [],
            "needs_background": "light"
          }
        }
      ]
    },
    {
      "cell_type": "code",
      "metadata": {
        "id": "LbphIu0Q_m6Q",
        "outputId": "2b8564a9-5f87-40b7-9a6c-513941c28aa6",
        "colab": {
          "base_uri": "https://localhost:8080/",
          "height": 806
        }
      },
      "source": [
        "# クラスタリング結果のグラフ化\n",
        "colors = ['blue', 'red', 'green']\n",
        "for i, data in merge_data.groupby('cluster'):\n",
        "    data.plot.scatter(x='feature1', y='feature2', color=colors[i],\n",
        "                                           label=f'cluster{i}')"
      ],
      "execution_count": 6,
      "outputs": [
        {
          "output_type": "display_data",
          "data": {
            "image/png": "[encoded data removed]",
            "text/plain": [
              "<Figure size 432x288 with 1 Axes>"
            ]
          },
          "metadata": {
            "tags": [],
            "needs_background": "light"
          }
        },
        {
          "output_type": "display_data",
          "data": {
            "image/png": "[encoded data removed]",
            "text/plain": [
              "<Figure size 432x288 with 1 Axes>"
            ]
          },
          "metadata": {
            "tags": [],
            "needs_background": "light"
          }
        },
        {
          "output_type": "display_data",
          "data": {
            "image/png": "[encoded data removed]",
            "text/plain": [
              "<Figure size 432x288 with 1 Axes>"
            ]
          },
          "metadata": {
            "tags": [],
            "needs_background": "light"
          }
        }
      ]
    }
  ]
}