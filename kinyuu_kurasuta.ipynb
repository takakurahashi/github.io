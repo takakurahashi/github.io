{
  "nbformat": 4,
  "nbformat_minor": 0,
  "metadata": {
    "colab": {
      "name": "kinyuu.kurasuta.ipynb",
      "provenance": [],
      "authorship_tag": "ABX9TyNQF+fpKDHEkYidyhP+s7QJ",
      "include_colab_link": true
    },
    "kernelspec": {
      "name": "python3",
      "display_name": "Python 3"
    }
  },
  "cells": [
    {
      "cell_type": "markdown",
      "metadata": {
        "id": "view-in-github",
        "colab_type": "text"
      },
      "source": [
        "<a href=\"https://colab.research.google.com/github/takakurahashi/github.io/blob/master/kinyuu_kurasuta.ipynb\" target=\"_parent\"><img src=\"https://colab.research.google.com/assets/colab-badge.svg\" alt=\"Open In Colab\"/></a>"
      ]
    },
    {
      "cell_type": "code",
      "metadata": {
        "id": "hDKPfRhiq2Np",
        "outputId": "aab8ce23-3d54-4afb-b997-3b993b8f1d8a",
        "colab": {
          "base_uri": "https://localhost:8080/",
          "height": 35
        }
      },
      "source": [
        "# データ加工・処理・分析ライブラリ\n",
        "import numpy as np\n",
        "import numpy.random as random\n",
        "import scipy as sp\n",
        "from pandas import Series, DataFrame\n",
        "import pandas as pd\n",
        "\n",
        "# 可視化ライブラリ\n",
        "import matplotlib.pyplot as plt\n",
        "import matplotlib as mpl\n",
        "import seaborn as sns\n",
        "%matplotlib inline\n",
        "\n",
        "# 機械学習ライブラリ\n",
        "import sklearn\n",
        "# k-means法を使うためのインポート\n",
        "from sklearn.cluster import KMeans\n",
        "\n",
        "# 小数第3位まで表示\n",
        "%precision 3"
      ],
      "execution_count": 1,
      "outputs": [
        {
          "output_type": "execute_result",
          "data": {
            "application/vnd.google.colaboratory.intrinsic+json": {
              "type": "string"
            },
            "text/plain": [
              "'%.3f'"
            ]
          },
          "metadata": {
            "tags": []
          },
          "execution_count": 1
        }
      ]
    },
    {
      "cell_type": "code",
      "metadata": {
        "id": "RSOkbJ4MrAPK"
      },
      "source": [
        "# webからデータを取得したり、zipファイルを扱うためのライブラリをインポート\n",
        "import requests, zipfile\n",
        "import io\n",
        "\n",
        "# データがあるurl の指定\n",
        "zip_file_url = 'http://archive.ics.uci.edu/ml/machine-learning-databases/00222/bank.zip'\n",
        "\n",
        "# データを取得して展開する\n",
        "r = requests.get(zip_file_url, stream=True)\n",
        "z = zipfile.ZipFile(io.BytesIO(r.content))\n",
        "z.extractall()"
      ],
      "execution_count": 2,
      "outputs": []
    },
    {
      "cell_type": "code",
      "metadata": {
        "id": "uCOzTalYrFB3",
        "outputId": "b46bb315-daf0-405d-93a3-ab8036e9bab2",
        "colab": {
          "base_uri": "https://localhost:8080/",
          "height": 197
        }
      },
      "source": [
        "#対象データを読み込み\n",
        "bank= pd.read_csv('bank-full.csv', sep=';')\n",
        "\n",
        "# 先頭の5行を表示\n",
        "bank.head()"
      ],
      "execution_count": 3,
      "outputs": [
        {
          "output_type": "execute_result",
          "data": {
            "text/html": [
              "<div>\n",
              "<style scoped>\n",
              "    .dataframe tbody tr th:only-of-type {\n",
              "        vertical-align: middle;\n",
              "    }\n",
              "\n",
              "    .dataframe tbody tr th {\n",
              "        vertical-align: top;\n",
              "    }\n",
              "\n",
              "    .dataframe thead th {\n",
              "        text-align: right;\n",
              "    }\n",
              "</style>\n",
              "<table border=\"1\" class=\"dataframe\">\n",
              "  <thead>\n",
              "    <tr style=\"text-align: right;\">\n",
              "      <th></th>\n",
              "      <th>age</th>\n",
              "      <th>job</th>\n",
              "      <th>marital</th>\n",
              "      <th>education</th>\n",
              "      <th>default</th>\n",
              "      <th>balance</th>\n",
              "      <th>housing</th>\n",
              "      <th>loan</th>\n",
              "      <th>contact</th>\n",
              "      <th>day</th>\n",
              "      <th>month</th>\n",
              "      <th>duration</th>\n",
              "      <th>campaign</th>\n",
              "      <th>pdays</th>\n",
              "      <th>previous</th>\n",
              "      <th>poutcome</th>\n",
              "      <th>y</th>\n",
              "    </tr>\n",
              "  </thead>\n",
              "  <tbody>\n",
              "    <tr>\n",
              "      <th>0</th>\n",
              "      <td>58</td>\n",
              "      <td>management</td>\n",
              "      <td>married</td>\n",
              "      <td>tertiary</td>\n",
              "      <td>no</td>\n",
              "      <td>2143</td>\n",
              "      <td>yes</td>\n",
              "      <td>no</td>\n",
              "      <td>unknown</td>\n",
              "      <td>5</td>\n",
              "      <td>may</td>\n",
              "      <td>261</td>\n",
              "      <td>1</td>\n",
              "      <td>-1</td>\n",
              "      <td>0</td>\n",
              "      <td>unknown</td>\n",
              "      <td>no</td>\n",
              "    </tr>\n",
              "    <tr>\n",
              "      <th>1</th>\n",
              "      <td>44</td>\n",
              "      <td>technician</td>\n",
              "      <td>single</td>\n",
              "      <td>secondary</td>\n",
              "      <td>no</td>\n",
              "      <td>29</td>\n",
              "      <td>yes</td>\n",
              "      <td>no</td>\n",
              "      <td>unknown</td>\n",
              "      <td>5</td>\n",
              "      <td>may</td>\n",
              "      <td>151</td>\n",
              "      <td>1</td>\n",
              "      <td>-1</td>\n",
              "      <td>0</td>\n",
              "      <td>unknown</td>\n",
              "      <td>no</td>\n",
              "    </tr>\n",
              "    <tr>\n",
              "      <th>2</th>\n",
              "      <td>33</td>\n",
              "      <td>entrepreneur</td>\n",
              "      <td>married</td>\n",
              "      <td>secondary</td>\n",
              "      <td>no</td>\n",
              "      <td>2</td>\n",
              "      <td>yes</td>\n",
              "      <td>yes</td>\n",
              "      <td>unknown</td>\n",
              "      <td>5</td>\n",
              "      <td>may</td>\n",
              "      <td>76</td>\n",
              "      <td>1</td>\n",
              "      <td>-1</td>\n",
              "      <td>0</td>\n",
              "      <td>unknown</td>\n",
              "      <td>no</td>\n",
              "    </tr>\n",
              "    <tr>\n",
              "      <th>3</th>\n",
              "      <td>47</td>\n",
              "      <td>blue-collar</td>\n",
              "      <td>married</td>\n",
              "      <td>unknown</td>\n",
              "      <td>no</td>\n",
              "      <td>1506</td>\n",
              "      <td>yes</td>\n",
              "      <td>no</td>\n",
              "      <td>unknown</td>\n",
              "      <td>5</td>\n",
              "      <td>may</td>\n",
              "      <td>92</td>\n",
              "      <td>1</td>\n",
              "      <td>-1</td>\n",
              "      <td>0</td>\n",
              "      <td>unknown</td>\n",
              "      <td>no</td>\n",
              "    </tr>\n",
              "    <tr>\n",
              "      <th>4</th>\n",
              "      <td>33</td>\n",
              "      <td>unknown</td>\n",
              "      <td>single</td>\n",
              "      <td>unknown</td>\n",
              "      <td>no</td>\n",
              "      <td>1</td>\n",
              "      <td>no</td>\n",
              "      <td>no</td>\n",
              "      <td>unknown</td>\n",
              "      <td>5</td>\n",
              "      <td>may</td>\n",
              "      <td>198</td>\n",
              "      <td>1</td>\n",
              "      <td>-1</td>\n",
              "      <td>0</td>\n",
              "      <td>unknown</td>\n",
              "      <td>no</td>\n",
              "    </tr>\n",
              "  </tbody>\n",
              "</table>\n",
              "</div>"
            ],
            "text/plain": [
              "   age           job  marital  education  ... pdays  previous poutcome   y\n",
              "0   58    management  married   tertiary  ...    -1         0  unknown  no\n",
              "1   44    technician   single  secondary  ...    -1         0  unknown  no\n",
              "2   33  entrepreneur  married  secondary  ...    -1         0  unknown  no\n",
              "3   47   blue-collar  married    unknown  ...    -1         0  unknown  no\n",
              "4   33       unknown   single    unknown  ...    -1         0  unknown  no\n",
              "\n",
              "[5 rows x 17 columns]"
            ]
          },
          "metadata": {
            "tags": []
          },
          "execution_count": 3
        }
      ]
    },
    {
      "cell_type": "code",
      "metadata": {
        "id": "b6OTdvAqrIxK",
        "outputId": "824f9632-da51-41e1-8e5e-bcb499d45f2c",
        "colab": {
          "base_uri": "https://localhost:8080/",
          "height": 52
        }
      },
      "source": [
        "print('データ形式(X,y):{}'.format(bank.shape))\n",
        "print('欠損データの数:{}'.format(bank.isnull().sum().sum()))\n",
        "# データの整理と標準化"
      ],
      "execution_count": 4,
      "outputs": [
        {
          "output_type": "stream",
          "text": [
            "データ形式(X,y):(45211, 17)\n",
            "欠損データの数:0\n"
          ],
          "name": "stdout"
        }
      ]
    },
    {
      "cell_type": "code",
      "metadata": {
        "id": "gQEYWb_1rZ1k"
      },
      "source": [
        "from sklearn.preprocessing import StandardScaler\n",
        "\n",
        "# データの列の絞り込み\n",
        "bank_sub = bank[['age','balance','campaign','previous']]\n",
        "\n",
        "# 標準化\n",
        "sc = StandardScaler()\n",
        "sc.fit(bank_sub)\n",
        "bank_sub_std = sc.transform(bank_sub)"
      ],
      "execution_count": 5,
      "outputs": []
    },
    {
      "cell_type": "code",
      "metadata": {
        "id": "7NTifHpkrea1",
        "outputId": "236385bf-17a8-4c5a-af09-3803de9ae100",
        "colab": {
          "base_uri": "https://localhost:8080/",
          "height": 212
        }
      },
      "source": [
        "bank_sub.info()"
      ],
      "execution_count": 6,
      "outputs": [
        {
          "output_type": "stream",
          "text": [
            "<class 'pandas.core.frame.DataFrame'>\n",
            "RangeIndex: 45211 entries, 0 to 45210\n",
            "Data columns (total 4 columns):\n",
            " #   Column    Non-Null Count  Dtype\n",
            "---  ------    --------------  -----\n",
            " 0   age       45211 non-null  int64\n",
            " 1   balance   45211 non-null  int64\n",
            " 2   campaign  45211 non-null  int64\n",
            " 3   previous  45211 non-null  int64\n",
            "dtypes: int64(4)\n",
            "memory usage: 1.4 MB\n"
          ],
          "name": "stdout"
        }
      ]
    },
    {
      "cell_type": "code",
      "metadata": {
        "id": "zSNL4P4Frit7",
        "outputId": "980c6f6b-f61a-44ba-9929-2b3c511df148",
        "colab": {
          "base_uri": "https://localhost:8080/",
          "height": 417
        }
      },
      "source": [
        "# クラスタリングの処理\n",
        "# KMeansクラスの初期化\n",
        "kmeans = KMeans(init='random', n_clusters=6, random_state=0)\n",
        "\n",
        "# クラスターの重心を計算\n",
        "kmeans.fit(bank_sub_std)\n",
        "\n",
        "# クラスター番号をpandasのSeriesオブジェクトに変換\n",
        "labels = pd.Series(kmeans.labels_, name='cluster_number')\n",
        "\n",
        "# クラスター番号と件数を表示\n",
        "print(labels.value_counts(sort=False))\n",
        "\n",
        "# グラフを描画\n",
        "ax = labels.value_counts(sort=False).plot(kind='bar')\n",
        "ax.set_xlabel('cluster number')\n",
        "ax.set_ylabel('count')"
      ],
      "execution_count": 7,
      "outputs": [
        {
          "output_type": "stream",
          "text": [
            "0    14411\n",
            "1    23608\n",
            "2     3837\n",
            "3     1373\n",
            "4     1282\n",
            "5      700\n",
            "Name: cluster_number, dtype: int64\n"
          ],
          "name": "stdout"
        },
        {
          "output_type": "execute_result",
          "data": {
            "text/plain": [
              "Text(0, 0.5, 'count')"
            ]
          },
          "metadata": {
            "tags": []
          },
          "execution_count": 7
        },
        {
          "output_type": "display_data",
          "data": {
            "image/png": "[encoded data removed]",
            "text/plain": [
              "<Figure size 432x288 with 1 Axes>"
            ]
          },
          "metadata": {
            "tags": [],
            "needs_background": "light"
          }
        }
      ]
    },
    {
      "cell_type": "code",
      "metadata": {
        "id": "WkJcwX5PrvTg"
      },
      "source": [
        "# データ取得のためのインポート\n",
        "from sklearn.datasets import make_blobs\n",
        "\n",
        "# サンプルデータ生成\n",
        "# 注意：make_blobsは2つの値を返すため、一方は使用しない「 _ 」で受け取る\n",
        "X, _ = make_blobs(random_state=10)"
      ],
      "execution_count": 8,
      "outputs": []
    },
    {
      "cell_type": "code",
      "metadata": {
        "id": "D2I1dN_Dr28H",
        "outputId": "49e56a2c-a00e-4d70-d714-d3e3d59e5277",
        "colab": {
          "base_uri": "https://localhost:8080/",
          "height": 296
        }
      },
      "source": [
        "# エルボー方による推定。クラスター数を1から10に増やして、それぞれの距離の総和を求める\n",
        "dist_list =[]\n",
        "for i in range(1,10):\n",
        "    kmeans= KMeans(n_clusters=i, init='random', random_state=0)\n",
        "    kmeans.fit(X)\n",
        "    dist_list.append(kmeans.inertia_)\n",
        "    \n",
        "# グラフを表示\n",
        "plt.plot(range(1,10), dist_list,marker='+')\n",
        "plt.xlabel('Number of clusters')\n",
        "plt.ylabel('Distortion')"
      ],
      "execution_count": 9,
      "outputs": [
        {
          "output_type": "execute_result",
          "data": {
            "text/plain": [
              "Text(0, 0.5, 'Distortion')"
            ]
          },
          "metadata": {
            "tags": []
          },
          "execution_count": 9
        },
        {
          "output_type": "display_data",
          "data": {
            "image/png": "[encoded data removed]",
            "text/plain": [
              "<Figure size 432x288 with 1 Axes>"
            ]
          },
          "metadata": {
            "tags": [],
            "needs_background": "light"
          }
        }
      ]
    },
    {
      "cell_type": "code",
      "metadata": {
        "id": "fG7TkS8yr7dS",
        "outputId": "a3b1c5fe-7858-41ff-c8b6-d8c973369020",
        "colab": {
          "base_uri": "https://localhost:8080/",
          "height": 296
        }
      },
      "source": [
        "# クラスタリング結果の解釈\n",
        "# エルボー方による推定。クラスター数を1から20に増やして、それぞれの距離の総和を求める\n",
        "dist_list =[]\n",
        "for i in range(1,20):\n",
        "    kmeans= KMeans(n_clusters=i, init='random', random_state=0)\n",
        "    kmeans.fit(bank_sub_std)\n",
        "    dist_list.append(kmeans.inertia_)\n",
        "    \n",
        "# グラフを表示\n",
        "plt.plot(range(1,20), dist_list,marker='+')\n",
        "plt.xlabel('Number of clusters')\n",
        "plt.ylabel('Distortion')"
      ],
      "execution_count": 10,
      "outputs": [
        {
          "output_type": "execute_result",
          "data": {
            "text/plain": [
              "Text(0, 0.5, 'Distortion')"
            ]
          },
          "metadata": {
            "tags": []
          },
          "execution_count": 10
        },
        {
          "output_type": "display_data",
          "data": {
            "image/png": "[encoded data removed]",
            "text/plain": [
              "<Figure size 432x288 with 1 Axes>"
            ]
          },
          "metadata": {
            "tags": [],
            "needs_background": "light"
          }
        }
      ]
    },
    {
      "cell_type": "code",
      "metadata": {
        "id": "9sVL7wwesA4x",
        "outputId": "90a9fb46-36f7-4462-a327-839178ea67b9",
        "colab": {
          "base_uri": "https://localhost:8080/",
          "height": 197
        }
      },
      "source": [
        "# 金融機関のデータにクラスター番号のデータを結合\n",
        "bank_with_cluster = pd.concat([bank, labels], axis=1)\n",
        "\n",
        "# 先頭の5行を表示\n",
        "bank_with_cluster.head()"
      ],
      "execution_count": 11,
      "outputs": [
        {
          "output_type": "execute_result",
          "data": {
            "text/html": [
              "<div>\n",
              "<style scoped>\n",
              "    .dataframe tbody tr th:only-of-type {\n",
              "        vertical-align: middle;\n",
              "    }\n",
              "\n",
              "    .dataframe tbody tr th {\n",
              "        vertical-align: top;\n",
              "    }\n",
              "\n",
              "    .dataframe thead th {\n",
              "        text-align: right;\n",
              "    }\n",
              "</style>\n",
              "<table border=\"1\" class=\"dataframe\">\n",
              "  <thead>\n",
              "    <tr style=\"text-align: right;\">\n",
              "      <th></th>\n",
              "      <th>age</th>\n",
              "      <th>job</th>\n",
              "      <th>marital</th>\n",
              "      <th>education</th>\n",
              "      <th>default</th>\n",
              "      <th>balance</th>\n",
              "      <th>housing</th>\n",
              "      <th>loan</th>\n",
              "      <th>contact</th>\n",
              "      <th>day</th>\n",
              "      <th>month</th>\n",
              "      <th>duration</th>\n",
              "      <th>campaign</th>\n",
              "      <th>pdays</th>\n",
              "      <th>previous</th>\n",
              "      <th>poutcome</th>\n",
              "      <th>y</th>\n",
              "      <th>cluster_number</th>\n",
              "    </tr>\n",
              "  </thead>\n",
              "  <tbody>\n",
              "    <tr>\n",
              "      <th>0</th>\n",
              "      <td>58</td>\n",
              "      <td>management</td>\n",
              "      <td>married</td>\n",
              "      <td>tertiary</td>\n",
              "      <td>no</td>\n",
              "      <td>2143</td>\n",
              "      <td>yes</td>\n",
              "      <td>no</td>\n",
              "      <td>unknown</td>\n",
              "      <td>5</td>\n",
              "      <td>may</td>\n",
              "      <td>261</td>\n",
              "      <td>1</td>\n",
              "      <td>-1</td>\n",
              "      <td>0</td>\n",
              "      <td>unknown</td>\n",
              "      <td>no</td>\n",
              "      <td>0</td>\n",
              "    </tr>\n",
              "    <tr>\n",
              "      <th>1</th>\n",
              "      <td>44</td>\n",
              "      <td>technician</td>\n",
              "      <td>single</td>\n",
              "      <td>secondary</td>\n",
              "      <td>no</td>\n",
              "      <td>29</td>\n",
              "      <td>yes</td>\n",
              "      <td>no</td>\n",
              "      <td>unknown</td>\n",
              "      <td>5</td>\n",
              "      <td>may</td>\n",
              "      <td>151</td>\n",
              "      <td>1</td>\n",
              "      <td>-1</td>\n",
              "      <td>0</td>\n",
              "      <td>unknown</td>\n",
              "      <td>no</td>\n",
              "      <td>0</td>\n",
              "    </tr>\n",
              "    <tr>\n",
              "      <th>2</th>\n",
              "      <td>33</td>\n",
              "      <td>entrepreneur</td>\n",
              "      <td>married</td>\n",
              "      <td>secondary</td>\n",
              "      <td>no</td>\n",
              "      <td>2</td>\n",
              "      <td>yes</td>\n",
              "      <td>yes</td>\n",
              "      <td>unknown</td>\n",
              "      <td>5</td>\n",
              "      <td>may</td>\n",
              "      <td>76</td>\n",
              "      <td>1</td>\n",
              "      <td>-1</td>\n",
              "      <td>0</td>\n",
              "      <td>unknown</td>\n",
              "      <td>no</td>\n",
              "      <td>1</td>\n",
              "    </tr>\n",
              "    <tr>\n",
              "      <th>3</th>\n",
              "      <td>47</td>\n",
              "      <td>blue-collar</td>\n",
              "      <td>married</td>\n",
              "      <td>unknown</td>\n",
              "      <td>no</td>\n",
              "      <td>1506</td>\n",
              "      <td>yes</td>\n",
              "      <td>no</td>\n",
              "      <td>unknown</td>\n",
              "      <td>5</td>\n",
              "      <td>may</td>\n",
              "      <td>92</td>\n",
              "      <td>1</td>\n",
              "      <td>-1</td>\n",
              "      <td>0</td>\n",
              "      <td>unknown</td>\n",
              "      <td>no</td>\n",
              "      <td>0</td>\n",
              "    </tr>\n",
              "    <tr>\n",
              "      <th>4</th>\n",
              "      <td>33</td>\n",
              "      <td>unknown</td>\n",
              "      <td>single</td>\n",
              "      <td>unknown</td>\n",
              "      <td>no</td>\n",
              "      <td>1</td>\n",
              "      <td>no</td>\n",
              "      <td>no</td>\n",
              "      <td>unknown</td>\n",
              "      <td>5</td>\n",
              "      <td>may</td>\n",
              "      <td>198</td>\n",
              "      <td>1</td>\n",
              "      <td>-1</td>\n",
              "      <td>0</td>\n",
              "      <td>unknown</td>\n",
              "      <td>no</td>\n",
              "      <td>1</td>\n",
              "    </tr>\n",
              "  </tbody>\n",
              "</table>\n",
              "</div>"
            ],
            "text/plain": [
              "   age           job  marital  education  ... previous  poutcome   y cluster_number\n",
              "0   58    management  married   tertiary  ...        0   unknown  no              0\n",
              "1   44    technician   single  secondary  ...        0   unknown  no              0\n",
              "2   33  entrepreneur  married  secondary  ...        0   unknown  no              1\n",
              "3   47   blue-collar  married    unknown  ...        0   unknown  no              0\n",
              "4   33       unknown   single    unknown  ...        0   unknown  no              1\n",
              "\n",
              "[5 rows x 18 columns]"
            ]
          },
          "metadata": {
            "tags": []
          },
          "execution_count": 11
        }
      ]
    },
    {
      "cell_type": "code",
      "metadata": {
        "id": "ajwcORlNsR8N",
        "outputId": "c7cefa07-9600-4b2f-f249-b39afe25e421",
        "colab": {
          "base_uri": "https://localhost:8080/",
          "height": 506
        }
      },
      "source": [
        "# 分割のための区切りを設定\n",
        "bins = [15,20,25,30,35,40,45,50,55,60,65,100]\n",
        "\n",
        "# 上の区切りをもとに金融機関のデータを分割し、qcut_age変数に各データの年齢層を設定\n",
        "qcut_age = pd.cut(bank_with_cluster.age, bins, right=False)\n",
        "print(qcut_age)\n",
        "\n",
        "# クラスタ番号と年齢層を結合\n",
        "df = pd.concat([bank_with_cluster.cluster_number, qcut_age], axis=1)\n",
        "\n",
        "# クラスタ番号と年齢層を軸に集計し、年齢層を列に設定\n",
        "cross_cluster_age = df.groupby(['cluster_number', 'age']).size().unstack().fillna(0)\n",
        "cross_cluster_age"
      ],
      "execution_count": 12,
      "outputs": [
        {
          "output_type": "stream",
          "text": [
            "0         [55, 60)\n",
            "1         [40, 45)\n",
            "2         [30, 35)\n",
            "3         [45, 50)\n",
            "4         [30, 35)\n",
            "           ...    \n",
            "45206     [50, 55)\n",
            "45207    [65, 100)\n",
            "45208    [65, 100)\n",
            "45209     [55, 60)\n",
            "45210     [35, 40)\n",
            "Name: age, Length: 45211, dtype: category\n",
            "Categories (11, interval[int64]): [[15, 20) < [20, 25) < [25, 30) < [30, 35) ... [50, 55) < [55, 60) <\n",
            "                                   [60, 65) < [65, 100)]\n"
          ],
          "name": "stdout"
        },
        {
          "output_type": "execute_result",
          "data": {
            "text/html": [
              "<div>\n",
              "<style scoped>\n",
              "    .dataframe tbody tr th:only-of-type {\n",
              "        vertical-align: middle;\n",
              "    }\n",
              "\n",
              "    .dataframe tbody tr th {\n",
              "        vertical-align: top;\n",
              "    }\n",
              "\n",
              "    .dataframe thead th {\n",
              "        text-align: right;\n",
              "    }\n",
              "</style>\n",
              "<table border=\"1\" class=\"dataframe\">\n",
              "  <thead>\n",
              "    <tr style=\"text-align: right;\">\n",
              "      <th>age</th>\n",
              "      <th>[15, 20)</th>\n",
              "      <th>[20, 25)</th>\n",
              "      <th>[25, 30)</th>\n",
              "      <th>[30, 35)</th>\n",
              "      <th>[35, 40)</th>\n",
              "      <th>[40, 45)</th>\n",
              "      <th>[45, 50)</th>\n",
              "      <th>[50, 55)</th>\n",
              "      <th>[55, 60)</th>\n",
              "      <th>[60, 65)</th>\n",
              "      <th>[65, 100)</th>\n",
              "    </tr>\n",
              "    <tr>\n",
              "      <th>cluster_number</th>\n",
              "      <th></th>\n",
              "      <th></th>\n",
              "      <th></th>\n",
              "      <th></th>\n",
              "      <th></th>\n",
              "      <th></th>\n",
              "      <th></th>\n",
              "      <th></th>\n",
              "      <th></th>\n",
              "      <th></th>\n",
              "      <th></th>\n",
              "    </tr>\n",
              "  </thead>\n",
              "  <tbody>\n",
              "    <tr>\n",
              "      <th>0</th>\n",
              "      <td>0</td>\n",
              "      <td>0</td>\n",
              "      <td>0</td>\n",
              "      <td>0</td>\n",
              "      <td>0</td>\n",
              "      <td>1023</td>\n",
              "      <td>4490</td>\n",
              "      <td>3833</td>\n",
              "      <td>3480</td>\n",
              "      <td>850</td>\n",
              "      <td>735</td>\n",
              "    </tr>\n",
              "    <tr>\n",
              "      <th>1</th>\n",
              "      <td>45</td>\n",
              "      <td>705</td>\n",
              "      <td>3965</td>\n",
              "      <td>8221</td>\n",
              "      <td>6731</td>\n",
              "      <td>3941</td>\n",
              "      <td>0</td>\n",
              "      <td>0</td>\n",
              "      <td>0</td>\n",
              "      <td>0</td>\n",
              "      <td>0</td>\n",
              "    </tr>\n",
              "    <tr>\n",
              "      <th>2</th>\n",
              "      <td>1</td>\n",
              "      <td>20</td>\n",
              "      <td>230</td>\n",
              "      <td>788</td>\n",
              "      <td>956</td>\n",
              "      <td>718</td>\n",
              "      <td>598</td>\n",
              "      <td>328</td>\n",
              "      <td>165</td>\n",
              "      <td>29</td>\n",
              "      <td>4</td>\n",
              "    </tr>\n",
              "    <tr>\n",
              "      <th>3</th>\n",
              "      <td>0</td>\n",
              "      <td>20</td>\n",
              "      <td>129</td>\n",
              "      <td>327</td>\n",
              "      <td>306</td>\n",
              "      <td>186</td>\n",
              "      <td>145</td>\n",
              "      <td>117</td>\n",
              "      <td>71</td>\n",
              "      <td>38</td>\n",
              "      <td>34</td>\n",
              "    </tr>\n",
              "    <tr>\n",
              "      <th>4</th>\n",
              "      <td>0</td>\n",
              "      <td>11</td>\n",
              "      <td>74</td>\n",
              "      <td>240</td>\n",
              "      <td>219</td>\n",
              "      <td>203</td>\n",
              "      <td>156</td>\n",
              "      <td>140</td>\n",
              "      <td>155</td>\n",
              "      <td>48</td>\n",
              "      <td>36</td>\n",
              "    </tr>\n",
              "    <tr>\n",
              "      <th>5</th>\n",
              "      <td>1</td>\n",
              "      <td>6</td>\n",
              "      <td>66</td>\n",
              "      <td>164</td>\n",
              "      <td>137</td>\n",
              "      <td>114</td>\n",
              "      <td>81</td>\n",
              "      <td>70</td>\n",
              "      <td>51</td>\n",
              "      <td>9</td>\n",
              "      <td>1</td>\n",
              "    </tr>\n",
              "  </tbody>\n",
              "</table>\n",
              "</div>"
            ],
            "text/plain": [
              "age             [15, 20)  [20, 25)  [25, 30)  ...  [55, 60)  [60, 65)  [65, 100)\n",
              "cluster_number                                ...                               \n",
              "0                      0         0         0  ...      3480       850        735\n",
              "1                     45       705      3965  ...         0         0          0\n",
              "2                      1        20       230  ...       165        29          4\n",
              "3                      0        20       129  ...        71        38         34\n",
              "4                      0        11        74  ...       155        48         36\n",
              "5                      1         6        66  ...        51         9          1\n",
              "\n",
              "[6 rows x 11 columns]"
            ]
          },
          "metadata": {
            "tags": []
          },
          "execution_count": 12
        }
      ]
    },
    {
      "cell_type": "code",
      "metadata": {
        "id": "yiTHl9-QsT7g",
        "outputId": "e52b1e02-d8e9-47de-ec78-ad3b1aa740e3",
        "colab": {
          "base_uri": "https://localhost:8080/",
          "height": 230
        }
      },
      "source": [
        "# 分割したデータ数をカウント\n",
        "hist_age = pd.value_counts(qcut_age)\n",
        "hist_age"
      ],
      "execution_count": 13,
      "outputs": [
        {
          "output_type": "execute_result",
          "data": {
            "text/plain": [
              "[30, 35)     9740\n",
              "[35, 40)     8349\n",
              "[40, 45)     6185\n",
              "[45, 50)     5470\n",
              "[50, 55)     4488\n",
              "[25, 30)     4464\n",
              "[55, 60)     3922\n",
              "[60, 65)      974\n",
              "[65, 100)     810\n",
              "[20, 25)      762\n",
              "[15, 20)       47\n",
              "Name: age, dtype: int64"
            ]
          },
          "metadata": {
            "tags": []
          },
          "execution_count": 13
        }
      ]
    },
    {
      "cell_type": "code",
      "metadata": {
        "id": "IwA3NUSJsYFB",
        "outputId": "581f790e-4ddd-430e-f35e-79ae2b1a620f",
        "colab": {
          "base_uri": "https://localhost:8080/",
          "height": 257
        }
      },
      "source": [
        "cross_cluster_age.apply(lambda x : x/x.sum())"
      ],
      "execution_count": 14,
      "outputs": [
        {
          "output_type": "execute_result",
          "data": {
            "text/html": [
              "<div>\n",
              "<style scoped>\n",
              "    .dataframe tbody tr th:only-of-type {\n",
              "        vertical-align: middle;\n",
              "    }\n",
              "\n",
              "    .dataframe tbody tr th {\n",
              "        vertical-align: top;\n",
              "    }\n",
              "\n",
              "    .dataframe thead th {\n",
              "        text-align: right;\n",
              "    }\n",
              "</style>\n",
              "<table border=\"1\" class=\"dataframe\">\n",
              "  <thead>\n",
              "    <tr style=\"text-align: right;\">\n",
              "      <th>age</th>\n",
              "      <th>[15, 20)</th>\n",
              "      <th>[20, 25)</th>\n",
              "      <th>[25, 30)</th>\n",
              "      <th>[30, 35)</th>\n",
              "      <th>[35, 40)</th>\n",
              "      <th>[40, 45)</th>\n",
              "      <th>[45, 50)</th>\n",
              "      <th>[50, 55)</th>\n",
              "      <th>[55, 60)</th>\n",
              "      <th>[60, 65)</th>\n",
              "      <th>[65, 100)</th>\n",
              "    </tr>\n",
              "    <tr>\n",
              "      <th>cluster_number</th>\n",
              "      <th></th>\n",
              "      <th></th>\n",
              "      <th></th>\n",
              "      <th></th>\n",
              "      <th></th>\n",
              "      <th></th>\n",
              "      <th></th>\n",
              "      <th></th>\n",
              "      <th></th>\n",
              "      <th></th>\n",
              "      <th></th>\n",
              "    </tr>\n",
              "  </thead>\n",
              "  <tbody>\n",
              "    <tr>\n",
              "      <th>0</th>\n",
              "      <td>0.000000</td>\n",
              "      <td>0.000000</td>\n",
              "      <td>0.000000</td>\n",
              "      <td>0.000000</td>\n",
              "      <td>0.000000</td>\n",
              "      <td>0.165400</td>\n",
              "      <td>0.820841</td>\n",
              "      <td>0.854055</td>\n",
              "      <td>0.887302</td>\n",
              "      <td>0.872690</td>\n",
              "      <td>0.907407</td>\n",
              "    </tr>\n",
              "    <tr>\n",
              "      <th>1</th>\n",
              "      <td>0.957447</td>\n",
              "      <td>0.925197</td>\n",
              "      <td>0.888217</td>\n",
              "      <td>0.844045</td>\n",
              "      <td>0.806204</td>\n",
              "      <td>0.637187</td>\n",
              "      <td>0.000000</td>\n",
              "      <td>0.000000</td>\n",
              "      <td>0.000000</td>\n",
              "      <td>0.000000</td>\n",
              "      <td>0.000000</td>\n",
              "    </tr>\n",
              "    <tr>\n",
              "      <th>2</th>\n",
              "      <td>0.021277</td>\n",
              "      <td>0.026247</td>\n",
              "      <td>0.051523</td>\n",
              "      <td>0.080903</td>\n",
              "      <td>0.114505</td>\n",
              "      <td>0.116087</td>\n",
              "      <td>0.109324</td>\n",
              "      <td>0.073084</td>\n",
              "      <td>0.042070</td>\n",
              "      <td>0.029774</td>\n",
              "      <td>0.004938</td>\n",
              "    </tr>\n",
              "    <tr>\n",
              "      <th>3</th>\n",
              "      <td>0.000000</td>\n",
              "      <td>0.026247</td>\n",
              "      <td>0.028898</td>\n",
              "      <td>0.033573</td>\n",
              "      <td>0.036651</td>\n",
              "      <td>0.030073</td>\n",
              "      <td>0.026508</td>\n",
              "      <td>0.026070</td>\n",
              "      <td>0.018103</td>\n",
              "      <td>0.039014</td>\n",
              "      <td>0.041975</td>\n",
              "    </tr>\n",
              "    <tr>\n",
              "      <th>4</th>\n",
              "      <td>0.000000</td>\n",
              "      <td>0.014436</td>\n",
              "      <td>0.016577</td>\n",
              "      <td>0.024641</td>\n",
              "      <td>0.026231</td>\n",
              "      <td>0.032821</td>\n",
              "      <td>0.028519</td>\n",
              "      <td>0.031194</td>\n",
              "      <td>0.039521</td>\n",
              "      <td>0.049281</td>\n",
              "      <td>0.044444</td>\n",
              "    </tr>\n",
              "    <tr>\n",
              "      <th>5</th>\n",
              "      <td>0.021277</td>\n",
              "      <td>0.007874</td>\n",
              "      <td>0.014785</td>\n",
              "      <td>0.016838</td>\n",
              "      <td>0.016409</td>\n",
              "      <td>0.018432</td>\n",
              "      <td>0.014808</td>\n",
              "      <td>0.015597</td>\n",
              "      <td>0.013004</td>\n",
              "      <td>0.009240</td>\n",
              "      <td>0.001235</td>\n",
              "    </tr>\n",
              "  </tbody>\n",
              "</table>\n",
              "</div>"
            ],
            "text/plain": [
              "age             [15, 20)  [20, 25)  [25, 30)  ...  [55, 60)  [60, 65)  [65, 100)\n",
              "cluster_number                                ...                               \n",
              "0               0.000000  0.000000  0.000000  ...  0.887302  0.872690   0.907407\n",
              "1               0.957447  0.925197  0.888217  ...  0.000000  0.000000   0.000000\n",
              "2               0.021277  0.026247  0.051523  ...  0.042070  0.029774   0.004938\n",
              "3               0.000000  0.026247  0.028898  ...  0.018103  0.039014   0.041975\n",
              "4               0.000000  0.014436  0.016577  ...  0.039521  0.049281   0.044444\n",
              "5               0.021277  0.007874  0.014785  ...  0.013004  0.009240   0.001235\n",
              "\n",
              "[6 rows x 11 columns]"
            ]
          },
          "metadata": {
            "tags": []
          },
          "execution_count": 14
        }
      ]
    },
    {
      "cell_type": "code",
      "metadata": {
        "id": "0iXdadk2scbE",
        "outputId": "298861f2-5234-4adb-e506-034e9881524b",
        "colab": {
          "base_uri": "https://localhost:8080/",
          "height": 332
        }
      },
      "source": [
        "# ヒートマップ\n",
        "sns.heatmap(cross_cluster_age.apply(lambda x : x/x.sum(), axis=1), cmap='Blues')"
      ],
      "execution_count": 15,
      "outputs": [
        {
          "output_type": "execute_result",
          "data": {
            "text/plain": [
              "<matplotlib.axes._subplots.AxesSubplot at 0x7f4da2d179b0>"
            ]
          },
          "metadata": {
            "tags": []
          },
          "execution_count": 15
        },
        {
          "output_type": "display_data",
          "data": {
            "image/png": "[encoded data removed]",
            "text/plain": [
              "<Figure size 432x288 with 2 Axes>"
            ]
          },
          "metadata": {
            "tags": [],
            "needs_background": "light"
          }
        }
      ]
    },
    {
      "cell_type": "code",
      "metadata": {
        "id": "V_9BtDwSsg_7",
        "outputId": "ca6fc530-e10d-4084-8494-f3a824140e77",
        "colab": {
          "base_uri": "https://localhost:8080/",
          "height": 294
        }
      },
      "source": [
        "cross_cluster_job = bank_with_cluster.groupby(['cluster_number', 'job']).size().unstack().fillna(0)\n",
        "cross_cluster_job"
      ],
      "execution_count": 16,
      "outputs": [
        {
          "output_type": "execute_result",
          "data": {
            "text/html": [
              "<div>\n",
              "<style scoped>\n",
              "    .dataframe tbody tr th:only-of-type {\n",
              "        vertical-align: middle;\n",
              "    }\n",
              "\n",
              "    .dataframe tbody tr th {\n",
              "        vertical-align: top;\n",
              "    }\n",
              "\n",
              "    .dataframe thead th {\n",
              "        text-align: right;\n",
              "    }\n",
              "</style>\n",
              "<table border=\"1\" class=\"dataframe\">\n",
              "  <thead>\n",
              "    <tr style=\"text-align: right;\">\n",
              "      <th>job</th>\n",
              "      <th>admin.</th>\n",
              "      <th>blue-collar</th>\n",
              "      <th>entrepreneur</th>\n",
              "      <th>housemaid</th>\n",
              "      <th>management</th>\n",
              "      <th>retired</th>\n",
              "      <th>self-employed</th>\n",
              "      <th>services</th>\n",
              "      <th>student</th>\n",
              "      <th>technician</th>\n",
              "      <th>unemployed</th>\n",
              "      <th>unknown</th>\n",
              "    </tr>\n",
              "    <tr>\n",
              "      <th>cluster_number</th>\n",
              "      <th></th>\n",
              "      <th></th>\n",
              "      <th></th>\n",
              "      <th></th>\n",
              "      <th></th>\n",
              "      <th></th>\n",
              "      <th></th>\n",
              "      <th></th>\n",
              "      <th></th>\n",
              "      <th></th>\n",
              "      <th></th>\n",
              "      <th></th>\n",
              "    </tr>\n",
              "  </thead>\n",
              "  <tbody>\n",
              "    <tr>\n",
              "      <th>0</th>\n",
              "      <td>1408</td>\n",
              "      <td>2906</td>\n",
              "      <td>530</td>\n",
              "      <td>652</td>\n",
              "      <td>2723</td>\n",
              "      <td>2006</td>\n",
              "      <td>476</td>\n",
              "      <td>1073</td>\n",
              "      <td>3</td>\n",
              "      <td>2048</td>\n",
              "      <td>432</td>\n",
              "      <td>154</td>\n",
              "    </tr>\n",
              "    <tr>\n",
              "      <th>1</th>\n",
              "      <td>3005</td>\n",
              "      <td>5385</td>\n",
              "      <td>697</td>\n",
              "      <td>409</td>\n",
              "      <td>4933</td>\n",
              "      <td>55</td>\n",
              "      <td>820</td>\n",
              "      <td>2474</td>\n",
              "      <td>812</td>\n",
              "      <td>4256</td>\n",
              "      <td>687</td>\n",
              "      <td>75</td>\n",
              "    </tr>\n",
              "    <tr>\n",
              "      <th>2</th>\n",
              "      <td>392</td>\n",
              "      <td>862</td>\n",
              "      <td>145</td>\n",
              "      <td>107</td>\n",
              "      <td>895</td>\n",
              "      <td>59</td>\n",
              "      <td>139</td>\n",
              "      <td>370</td>\n",
              "      <td>42</td>\n",
              "      <td>701</td>\n",
              "      <td>91</td>\n",
              "      <td>34</td>\n",
              "    </tr>\n",
              "    <tr>\n",
              "      <th>3</th>\n",
              "      <td>193</td>\n",
              "      <td>239</td>\n",
              "      <td>42</td>\n",
              "      <td>21</td>\n",
              "      <td>335</td>\n",
              "      <td>53</td>\n",
              "      <td>42</td>\n",
              "      <td>113</td>\n",
              "      <td>53</td>\n",
              "      <td>244</td>\n",
              "      <td>33</td>\n",
              "      <td>5</td>\n",
              "    </tr>\n",
              "    <tr>\n",
              "      <th>4</th>\n",
              "      <td>109</td>\n",
              "      <td>175</td>\n",
              "      <td>54</td>\n",
              "      <td>36</td>\n",
              "      <td>417</td>\n",
              "      <td>77</td>\n",
              "      <td>71</td>\n",
              "      <td>69</td>\n",
              "      <td>22</td>\n",
              "      <td>192</td>\n",
              "      <td>49</td>\n",
              "      <td>11</td>\n",
              "    </tr>\n",
              "    <tr>\n",
              "      <th>5</th>\n",
              "      <td>64</td>\n",
              "      <td>165</td>\n",
              "      <td>19</td>\n",
              "      <td>15</td>\n",
              "      <td>155</td>\n",
              "      <td>14</td>\n",
              "      <td>31</td>\n",
              "      <td>55</td>\n",
              "      <td>6</td>\n",
              "      <td>156</td>\n",
              "      <td>11</td>\n",
              "      <td>9</td>\n",
              "    </tr>\n",
              "  </tbody>\n",
              "</table>\n",
              "</div>"
            ],
            "text/plain": [
              "job             admin.  blue-collar  ...  unemployed  unknown\n",
              "cluster_number                       ...                     \n",
              "0                 1408         2906  ...         432      154\n",
              "1                 3005         5385  ...         687       75\n",
              "2                  392          862  ...          91       34\n",
              "3                  193          239  ...          33        5\n",
              "4                  109          175  ...          49       11\n",
              "5                   64          165  ...          11        9\n",
              "\n",
              "[6 rows x 12 columns]"
            ]
          },
          "metadata": {
            "tags": []
          },
          "execution_count": 16
        }
      ]
    },
    {
      "cell_type": "code",
      "metadata": {
        "id": "mzjZ_iOsst4z",
        "outputId": "998c84e8-9f4f-487b-adad-e6ae1cf04ecc",
        "colab": {
          "base_uri": "https://localhost:8080/",
          "height": 357
        }
      },
      "source": [
        "sns.heatmap(cross_cluster_job.apply(lambda x : x/x.sum(), axis=1),cmap='Reds')"
      ],
      "execution_count": 17,
      "outputs": [
        {
          "output_type": "execute_result",
          "data": {
            "text/plain": [
              "<matplotlib.axes._subplots.AxesSubplot at 0x7f4da2ff37b8>"
            ]
          },
          "metadata": {
            "tags": []
          },
          "execution_count": 17
        },
        {
          "output_type": "display_data",
          "data": {
            "image/png": "[encoded data removed]",
            "text/plain": [
              "<Figure size 432x288 with 2 Axes>"
            ]
          },
          "metadata": {
            "tags": [],
            "needs_background": "light"
          }
        }
      ]
    }
  ]
}