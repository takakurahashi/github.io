{
  "nbformat": 4,
  "nbformat_minor": 0,
  "metadata": {
    "colab": {
      "name": "TalkAPI.ipynb",
      "provenance": [],
      "collapsed_sections": [],
      "include_colab_link": true
    },
    "kernelspec": {
      "name": "python3",
      "display_name": "Python 3"
    }
  },
  "cells": [
    {
      "cell_type": "markdown",
      "metadata": {
        "id": "view-in-github",
        "colab_type": "text"
      },
      "source": [
        "<a href=\"https://colab.research.google.com/github/takakurahashi/github.io/blob/master/TalkAPI.ipynb\" target=\"_parent\"><img src=\"https://colab.research.google.com/assets/colab-badge.svg\" alt=\"Open In Colab\"/></a>"
      ]
    },
    {
      "cell_type": "code",
      "metadata": {
        "id": "UB1BBLtVQf0m",
        "outputId": "ca5afc23-ce6d-4147-b493-41261c813b1f",
        "colab": {
          "base_uri": "https://localhost:8080/",
          "height": 52
        }
      },
      "source": [
        "# pya3rtをインストール\n",
        "!pip install pya3rt"
      ],
      "execution_count": null,
      "outputs": [
        {
          "output_type": "stream",
          "text": [
            "Requirement already satisfied: pya3rt in /usr/local/lib/python3.6/dist-packages (1.1)\n",
            "Requirement already satisfied: requests==2.12.4 in /usr/local/lib/python3.6/dist-packages (from pya3rt) (2.12.4)\n"
          ],
          "name": "stdout"
        }
      ]
    },
    {
      "cell_type": "code",
      "metadata": {
        "id": "Teuuls6WREls"
      },
      "source": [
        "# インストールしたpya3rtをimport\n",
        "import pya3rt"
      ],
      "execution_count": null,
      "outputs": []
    },
    {
      "cell_type": "code",
      "metadata": {
        "id": "WP-oR7T8Ri4W"
      },
      "source": [
        "# API KEYを変数に格納\n",
        "apikey = 'DZZVQBi1oVQFnTwrQ9PrldmfxpdRlV6a'"
      ],
      "execution_count": null,
      "outputs": []
    },
    {
      "cell_type": "code",
      "metadata": {
        "id": "lNBxidVvSAMS"
      },
      "source": [
        "# clientを作成\n",
        "client = pya3rt.TalkClient(apikey)"
      ],
      "execution_count": null,
      "outputs": []
    },
    {
      "cell_type": "code",
      "metadata": {
        "id": "FbRDzQKgSRIC"
      },
      "source": [
        "# clientを使って話しかける\n",
        "reply_message = client.talk('いい天気ですね！')"
      ],
      "execution_count": null,
      "outputs": []
    },
    {
      "cell_type": "code",
      "metadata": {
        "id": "qRreIvjHShUG",
        "outputId": "7eda7aa4-2a27-49c9-ddf1-f73b91e73c29",
        "colab": {
          "base_uri": "https://localhost:8080/",
          "height": 34
        }
      },
      "source": [
        "# 格納された返答を見てみる\n",
        "print(reply_message)"
      ],
      "execution_count": null,
      "outputs": [
        {
          "output_type": "stream",
          "text": [
            "{'status': 0, 'message': 'ok', 'results': [{'perplexity': 1.3575035889063567, 'reply': '晴れてよかったです'}]}\n"
          ],
          "name": "stdout"
        }
      ]
    },
    {
      "cell_type": "code",
      "metadata": {
        "id": "okNplIXCSrO9",
        "outputId": "86ab6f5b-a712-4c69-b91f-45c3e4bcbc7a",
        "colab": {
          "base_uri": "https://localhost:8080/",
          "height": 34
        }
      },
      "source": [
        "# 文字列のみを取得：リストの1番目の要素を取得\n",
        "reply_message = client.talk('いい天気ですね！')\n",
        "print(reply_message ['results'] [0])"
      ],
      "execution_count": null,
      "outputs": [
        {
          "output_type": "stream",
          "text": [
            "{'perplexity': 1.3575035889063567, 'reply': '晴れてよかったです'}\n"
          ],
          "name": "stdout"
        }
      ]
    },
    {
      "cell_type": "code",
      "metadata": {
        "id": "tF08z2Y0TlEq",
        "outputId": "382c1aa7-a18c-4471-8f72-3c87606d6bd3",
        "colab": {
          "base_uri": "https://localhost:8080/",
          "height": 34
        }
      },
      "source": [
        "# 文字列のみを取得：replyキーを使って取得\n",
        "reply_message = client.talk('いい天気ですね！')\n",
        "print(reply_message ['results'] [0] ['reply'])"
      ],
      "execution_count": null,
      "outputs": [
        {
          "output_type": "stream",
          "text": [
            "晴れてよかったです\n"
          ],
          "name": "stdout"
        }
      ]
    },
    {
      "cell_type": "markdown",
      "metadata": {
        "id": "L0ooXNHRVTGX"
      },
      "source": [
        "# 関数化"
      ]
    },
    {
      "cell_type": "code",
      "metadata": {
        "id": "JqhUOh60W08U"
      },
      "source": [
        "# 関数名「talk_ai」\n",
        "import pya3rt\n",
        "\n",
        "def talk_ai():\n",
        "  apikey = 'DZZVQBi1oVQFnTwrQ9PrldmfxpdRlV6a'\n",
        "  client = pya3rt.TalkClient(apikey)\n",
        "  reply_message = client.talk('いい天気ですね！')\n",
        "  print(reply_message ['results'] [0] ['reply'])"
      ],
      "execution_count": null,
      "outputs": []
    },
    {
      "cell_type": "markdown",
      "metadata": {
        "id": "b7YOMRnnWjq6"
      },
      "source": [
        "引数を設定"
      ]
    },
    {
      "cell_type": "code",
      "metadata": {
        "id": "xES064QUVQKY"
      },
      "source": [
        "# 引数を設定\n",
        "import pya3rt\n",
        "\n",
        "def talk_ai(word):\n",
        "  apikey = 'DZZVQBi1oVQFnTwrQ9PrldmfxpdRlV6a'\n",
        "  client = pya3rt.TalkClient(apikey)\n",
        "  reply_message = client.talk('いい天気ですね！')\n",
        "  print(reply_message ['results'] [0] ['reply'])"
      ],
      "execution_count": null,
      "outputs": []
    },
    {
      "cell_type": "code",
      "metadata": {
        "id": "s0cM9RixVqZA"
      },
      "source": [
        "# client.talk()に引数を格納\n",
        "import pya3rt\n",
        "\n",
        "def talk_ai(word):\n",
        "  apikey = 'DZZVQBi1oVQFnTwrQ9PrldmfxpdRlV6a'\n",
        "  client = pya3rt.TalkClient(apikey)\n",
        "  reply_message = client.talk(word)\n",
        "  print(reply_message ['results'] [0] ['reply'])"
      ],
      "execution_count": null,
      "outputs": []
    },
    {
      "cell_type": "markdown",
      "metadata": {
        "id": "ZWqTwZHJXNvh"
      },
      "source": [
        "引数に値を格納"
      ]
    },
    {
      "cell_type": "code",
      "metadata": {
        "id": "OizLBkj1XQBN",
        "outputId": "0a682fc7-6c35-46f7-c62a-eaf695d1339f",
        "colab": {
          "base_uri": "https://localhost:8080/",
          "height": 52
        }
      },
      "source": [
        "# 関数「talk_ai」の引数に、人工知能に話しかける言葉を入れる\n",
        "print(reply_message ['results'] [0] ['reply'])\n",
        "talk_ai('好きな食べ物は？')"
      ],
      "execution_count": null,
      "outputs": [
        {
          "output_type": "stream",
          "text": [
            "晴れてよかったです\n",
            "なんでも好きですよ\n"
          ],
          "name": "stdout"
        }
      ]
    },
    {
      "cell_type": "markdown",
      "metadata": {
        "id": "s8QpPQCuXwZZ"
      },
      "source": [
        "話しかけてみる"
      ]
    },
    {
      "cell_type": "code",
      "metadata": {
        "id": "s7i3FypgXi_Z",
        "outputId": "cf490dc1-06af-4f13-b489-57c445c6515e",
        "colab": {
          "base_uri": "https://localhost:8080/",
          "height": 34
        }
      },
      "source": [
        "talk_ai('好きな音楽は？')"
      ],
      "execution_count": null,
      "outputs": [
        {
          "output_type": "stream",
          "text": [
            "何だと思いますか?\n"
          ],
          "name": "stdout"
        }
      ]
    },
    {
      "cell_type": "code",
      "metadata": {
        "id": "oF45HMwlX2pn",
        "outputId": "5f416b7d-54f1-4905-e732-7083b2f1f891",
        "colab": {
          "base_uri": "https://localhost:8080/",
          "height": 34
        }
      },
      "source": [
        "talk_ai('年齢は？')"
      ],
      "execution_count": null,
      "outputs": [
        {
          "output_type": "stream",
          "text": [
            "秘密です\n"
          ],
          "name": "stdout"
        }
      ]
    },
    {
      "cell_type": "code",
      "metadata": {
        "id": "DPDMs9xdX7Rc",
        "outputId": "f8d0d970-45a2-46e1-89f0-61bc3d283ae6",
        "colab": {
          "base_uri": "https://localhost:8080/",
          "height": 34
        }
      },
      "source": [
        "talk_ai('お昼ご飯は何がいい？')"
      ],
      "execution_count": null,
      "outputs": [
        {
          "output_type": "stream",
          "text": [
            "おいしいものが食べたいです\n"
          ],
          "name": "stdout"
        }
      ]
    },
    {
      "cell_type": "code",
      "metadata": {
        "id": "E8zmC1ctYBqH"
      },
      "source": [
        ""
      ],
      "execution_count": null,
      "outputs": []
    }
  ]
}