{
  "nbformat": 4,
  "nbformat_minor": 0,
  "metadata": {
    "colab": {
      "name": "twitter_api.ipynb",
      "provenance": [],
      "collapsed_sections": [],
      "authorship_tag": "ABX9TyO+iwSUswuZVvpgWEu8OGLY",
      "include_colab_link": true
    },
    "kernelspec": {
      "name": "python3",
      "display_name": "Python 3"
    }
  },
  "cells": [
    {
      "cell_type": "markdown",
      "metadata": {
        "id": "view-in-github",
        "colab_type": "text"
      },
      "source": [
        "<a href=\"https://colab.research.google.com/github/takakurahashi/github.io/blob/master/twitter_api.ipynb\" target=\"_parent\"><img src=\"https://colab.research.google.com/assets/colab-badge.svg\" alt=\"Open In Colab\"/></a>"
      ]
    },
    {
      "cell_type": "code",
      "metadata": {
        "id": "WRDfFOSaQoLR"
      },
      "source": [
        "import json\n",
        "from requests_oauthlib import OAuth1Session"
      ],
      "execution_count": null,
      "outputs": []
    },
    {
      "cell_type": "code",
      "metadata": {
        "id": "6niHbJvbQ6qF"
      },
      "source": [
        "COUSUMER_KEY='KQGXOT7VE056FgDHkeybhSzBZ'\n",
        "COUSUMER_SECRET='2jIMXA41q6sjXcymLmCovVxzQClOYHDlye0rkPEDb0jcp5BouC'\n",
        "ACCESS_TOKEN='265724172-HcQBSmEZSzh0dUGRXUtrf7tEYxz5KKIT9Us3DfnO'\n",
        "ACCESS_TOKEN_SECRET='xOWwspoIqTAO3aJ1apUXkBpC1mUC9lFrWy6WWDzRijv5i'"
      ],
      "execution_count": null,
      "outputs": []
    },
    {
      "cell_type": "code",
      "metadata": {
        "id": "qhVLliinRHwV",
        "outputId": "570f6fef-64a9-4f21-f2ec-19b8f6ac6377",
        "colab": {
          "base_uri": "https://localhost:8080/",
          "height": 34
        }
      },
      "source": [
        "twitter=OAuth1Session(COUSUMER_KEY,COUSUMER_SECRET,ACCESS_TOKEN,ACCESS_TOKEN_SECRET)\n",
        "url='https://api.twitter.com/1.1/search/tweets.json'\n",
        "#paramsに検索ワードや件数、日付などを入力\n",
        "params = {'query' : '100', #取得Tweet件数\n",
        "         \"maxResults\" : \"100\"} #表示件数（Sandboxでは100がMAX）\n",
        "#上記で設定したパラメーターをget関数を使い指定URLから取得\n",
        "res = twitter.get(url, params = params)\n",
        "\n",
        "#ステータスコードが正常値（200）だった場合の処理\n",
        "if res.status_code == 200:\n",
        "\n",
        "    #後でpandasで処理するためリスト化\n",
        "    created_at = []\n",
        "    text = []\n",
        "    retweet_count = []\n",
        "    favorite_count = []\n",
        "    \n",
        "    name = []\n",
        "    followers_count = []\n",
        "    friends_count = []\n",
        "    statuses_count = []    \n",
        "\n",
        "    #100件を超えるデータ用に繰り返し処理で対応\n",
        "    while True:\n",
        "        res = twitter.get(url, params = params)\n",
        "        tweets = json.loads(res.text)\n",
        "        tweet_list = tweets[\"results\"]\n",
        "        \n",
        "        for tweet in tweet_list:\n",
        "            created_at.append(tweet[\"created_at\"]) #投稿日時\n",
        "            text.append(tweet[\"text\"]) #投稿本文\n",
        "            retweet_count.append(tweet[\"retweet_count\"]) #リツイート数\n",
        "            favorite_count.append(tweet[\"favorite_count\"]) #いいね数\n",
        "            user = tweet[\"user\"]\n",
        "            name.append(user[\"name\"]) #名前\n",
        "            followers_count.append(user[\"followers_count\"]) #フォロワー数\n",
        "            friends_count.append(user[\"friends_count\"]) #フォロー数\n",
        "            statuses_count.append(user[\"statuses_count\"]) #投稿数\n",
        "\n",
        "        #対象Tweetが101件以上となりnextページがある場合\n",
        "        if \"next\"  in tweets.keys():\n",
        "           #nextの値をパラメータに追加する\n",
        "            params['next'] =  tweets[\"next\"]\n",
        "            print(params)\n",
        "            tweet_list = tweets[\"results\"]\n",
        "        \n",
        "        #nextページがない場合（100件以内の場合と最終ページ用）\n",
        "        else:\n",
        "            print(\"最終ページなので取得終了\")\n",
        "            break \n",
        "            \n",
        "else:\n",
        "    print(\"ERROR: %d\" % res.status_code)"
      ],
      "execution_count": null,
      "outputs": [
        {
          "output_type": "stream",
          "text": [
            "ERROR: 400\n"
          ],
          "name": "stdout"
        }
      ]
    }
  ]
}